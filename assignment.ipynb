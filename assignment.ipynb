{
 "cells": [
  {
   "cell_type": "code",
   "execution_count": 2,
   "metadata": {},
   "outputs": [
    {
     "name": "stdout",
     "output_type": "stream",
     "text": [
      "nohy\n"
     ]
    }
   ],
   "source": [
    "user_input = list(input())\n",
    "del(user_input[0])\n",
    "del(user_input[1])\n",
    "print(''.join(user_input)[::-1])\n"
   ]
  },
  {
   "cell_type": "code",
   "execution_count": 3,
   "metadata": {},
   "outputs": [
    {
     "name": "stdout",
     "output_type": "stream",
     "text": [
      "sum of 2 numbers 3\n",
      "diff of 2 numbers -1\n",
      "product of 2 numbers 2\n",
      "div of 2 numbers 0.5\n"
     ]
    }
   ],
   "source": [
    "num1 = int(input())\n",
    "num2 = int(input())\n",
    "\n",
    "print(\"sum of 2 numbers\",num1+num2)\n",
    "print(\"diff of 2 numbers\",num1-num2)\n",
    "print(\"product of 2 numbers\",num1*num2)\n",
    "print(\"div of 2 numbers\",num1/num2)"
   ]
  },
  {
   "cell_type": "code",
   "execution_count": 9,
   "metadata": {},
   "outputs": [
    {
     "name": "stdout",
     "output_type": "stream",
     "text": [
      "pythons is fast\n"
     ]
    }
   ],
   "source": [
    "str = input(\"Input sentence: \")\n",
    "print(\"Input sentence is\",str)\n",
    "print(\"output sentence is\",str.replace('python', 'pythons'))"
   ]
  },
  {
   "cell_type": "code",
   "execution_count": 10,
   "metadata": {},
   "outputs": [
    {
     "name": "stdout",
     "output_type": "stream",
     "text": [
      "A\n"
     ]
    }
   ],
   "source": [
    "grade = int(input(\"Input grade of student: \"))\n",
    " \n",
    "if grade >= 90:\n",
    "    print(\"A\")\n",
    "\n",
    "elif grade >=80:\n",
    "    print(\"B\")\n",
    "\n",
    "elif grade >=70:\n",
    "    print(\"C\")\n",
    "\n",
    "elif grade >= 60:\n",
    "    print(\"D\")\n",
    "\n",
    "else:\n",
    "    print(\"F\")\n"
   ]
  }
 ],
 "metadata": {
  "kernelspec": {
   "display_name": "Python 3",
   "language": "python",
   "name": "python3"
  },
  "language_info": {
   "codemirror_mode": {
    "name": "ipython",
    "version": 3
   },
   "file_extension": ".py",
   "mimetype": "text/x-python",
   "name": "python",
   "nbconvert_exporter": "python",
   "pygments_lexer": "ipython3",
   "version": "3.10.9"
  },
  "orig_nbformat": 4,
  "vscode": {
   "interpreter": {
    "hash": "11de2e762a72f33cf22ee66cef4d854a2d4326b8f222384f2e9bd07100a7a691"
   }
  }
 },
 "nbformat": 4,
 "nbformat_minor": 2
}
